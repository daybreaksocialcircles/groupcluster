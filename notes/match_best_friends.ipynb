{
 "cells": [
  {
   "cell_type": "markdown",
   "metadata": {},
   "source": [
    "NumPy, Pandas, URL\n",
    "https://pythonbasics.org/how-to-load-machine-learning-data-in-python/\n",
    "https://machinelearningmastery.com/load-machine-learning-data-python/\n",
    "\n",
    "https://stackoverflow.com/questions/11023411/how-to-import-csv-data-file-into-scikit-learn\n",
    "2D https://towardsdatascience.com/implementing-k-nearest-neighbors-with-scikit-learn-9e4858e231ea\n",
    "\n",
    "#Install pandas-profiling if needed\n",
    "conda install -c anaconda pandas-profiling\n"
   ]
  },
  {
   "cell_type": "markdown",
   "metadata": {},
   "source": [
    "Several Columns contain text values, most columns contain numeric values of 2, 1, NULL, or -1"
   ]
  },
  {
   "cell_type": "code",
   "execution_count": null,
   "metadata": {
    "scrolled": false
   },
   "outputs": [],
   "source": [
    "import numpy as np\n",
    "import pandas as pd\n",
    "import pandas_profiling as pp\n",
    "\n",
    "input_file = \"social_circles.csv\"\n",
    "\n",
    "\n",
    "# comma delimited is the default\n",
    "df = pd.read_csv(input_file, header = 0)\n",
    "\n",
    "# put the original column names in a python list\n",
    "original_headers = list(df.columns.values)\n",
    "\n",
    "\n",
    "\n"
   ]
  },
  {
   "cell_type": "code",
   "execution_count": null,
   "metadata": {
    "scrolled": true
   },
   "outputs": [],
   "source": [
    "df.shape"
   ]
  },
  {
   "cell_type": "code",
   "execution_count": null,
   "metadata": {
    "scrolled": true
   },
   "outputs": [],
   "source": [
    "df[0:3]"
   ]
  },
  {
   "cell_type": "code",
   "execution_count": null,
   "metadata": {
    "scrolled": false
   },
   "outputs": [],
   "source": [
    "df[105:]"
   ]
  },
  {
   "cell_type": "code",
   "execution_count": null,
   "metadata": {},
   "outputs": [],
   "source": [
    "# remove the non-numeric columns\n",
    "ndf = df._get_numeric_data()\n",
    "numeric_headers = list(ndf.columns.values)\n",
    "\n",
    "# create a numpy array with the numeric values for input into scikit-learn\n",
    "numpy_array = ndf.to_numpy()\n",
    "ndf.shape"
   ]
  },
  {
   "cell_type": "code",
   "execution_count": null,
   "metadata": {},
   "outputs": [],
   "source": [
    "ndf[105:]"
   ]
  },
  {
   "cell_type": "code",
   "execution_count": null,
   "metadata": {
    "scrolled": true
   },
   "outputs": [],
   "source": [
    "# Profile Report on interests\n",
    "interests_df=df[original_headers[1:40]]\n",
    "report = pp.ProfileReport(interests_df)\n",
    "report"
   ]
  },
  {
   "cell_type": "code",
   "execution_count": null,
   "metadata": {},
   "outputs": [],
   "source": [
    "# Profile Report on all variables\n",
    "# pp.ProfileReport(df)"
   ]
  },
  {
   "cell_type": "code",
   "execution_count": null,
   "metadata": {
    "scrolled": false
   },
   "outputs": [],
   "source": [
    "# Highly  correlated values\n",
    "highly_correlated_headers = ['Anime', 'KidsNightOut', 'Crafting', 'PlayingSports', 'FoodieClub', 'Geocaching', \n",
    "                             'JamSessions', 'Karaoke', 'Running', 'LAN_Gaming', 'PizzaNights', 'SingleParents']\n",
    "report = pp.ProfileReport(df[highly_correlated_headers])\n",
    "report"
   ]
  },
  {
   "cell_type": "code",
   "execution_count": null,
   "metadata": {
    "scrolled": false
   },
   "outputs": [],
   "source": [
    "df.columns"
   ]
  },
  {
   "cell_type": "code",
   "execution_count": null,
   "metadata": {
    "scrolled": true
   },
   "outputs": [],
   "source": [
    "# Load CSV (using python)\n",
    "import csv\n",
    "import numpy\n",
    "filename = 'social_circles.csv'\n",
    "raw_data = open(filename, 'rt')\n",
    "reader = csv.reader(raw_data, delimiter=',', quoting=csv.QUOTE_NONE)\n",
    "x = list(reader)\n",
    "sc_array = numpy.array(x)\n",
    "print(sc_array.shape)\n",
    "sc_array"
   ]
  },
  {
   "cell_type": "code",
   "execution_count": null,
   "metadata": {
    "scrolled": true
   },
   "outputs": [],
   "source": [
    "sc_array[110]\n"
   ]
  },
  {
   "cell_type": "code",
   "execution_count": null,
   "metadata": {},
   "outputs": [],
   "source": [
    "sc_array[110][0]"
   ]
  },
  {
   "cell_type": "code",
   "execution_count": null,
   "metadata": {
    "scrolled": true
   },
   "outputs": [],
   "source": [
    "# Load CSV using Pandas\n",
    "import pandas\n",
    "filename = 'social_circles.csv'\n",
    "names = ['Surrogate_Key', 'Kids', 'ShortHikes', 'LongHikes', 'Movies_TV', 'BookClub', 'GamesNight', 'PokerNight',\n",
    "         'Films_Documentaries', 'CulturalEvents', 'PlayingSports', 'WatchingSports', 'SnowSports', 'Running', 'ExerciseBudy',\n",
    "         'Biking', 'Camping', 'Crafting', 'Geocaching', 'SinglesActivities', 'Girls_GuysNightOut', 'KidsNightOut',\n",
    "         'SingleParents', 'FamilyFunNight', 'IceCreamSocial', 'FoodieClub', 'WineAndCheese', 'PizzaNights', 'SupperClub',\n",
    "         'ChocolateTasting', 'Karaoke', 'HolidayParties', 'WaterFights', 'LAN_Gaming', 'CommunityService',\n",
    "         'Entrepreneurship', 'RockHounding', 'MusicListening', 'JamSessions', 'Anime', 'Introvert', 'Extrovert',\n",
    "         'Restaurants', 'Bars', 'Libraries', 'Short_Walks', 'Smokers', 'Drinkers', 'Fashion_Conscious',\n",
    "         'Religous_Discussions', 'Political_Discussions', 'Liberal_Views', 'Conservative_Views', 'Thrifty_Activities',\n",
    "         'Extravagant_Activities', 'Watching_Sports', 'Hanging_Out', 'Big_Crowds', 'Loud_Crowds',\n",
    "         'Num_Daughters', 'Min_Daugthers', 'Max_Daughters', 'Num_sons', 'Min_sons', 'Max_Sons',\n",
    "         'Daughter1', 'Daughter2', 'Daughter3', 'Daughter4', 'Daughter5', 'Daughter6', 'Daughter7', 'Daughter8',\n",
    "         'Son1', 'Son2', 'Son3', 'Son4', 'Son5', 'Son6', 'Son7', 'Son8',\n",
    "         'Officer', 'Facebook', 'PlanEvent', 'ConnectPeople', 'TechnicalHelp', 'Club_Board',\n",
    "         'Actively_making_friends', 'Helping_others_connect']\n",
    "data = pandas.read_csv(filename, names=names)\n",
    "print(data.shape)\n",
    "data[:5]\n"
   ]
  },
  {
   "cell_type": "code",
   "execution_count": null,
   "metadata": {},
   "outputs": [],
   "source": [
    "from numpy import *\n",
    "# Change NaN values to 0\n",
    "where_are_NaNs = isnan(ndf)\n",
    "ndf[where_are_NaNs] = 0\n",
    "sc_matrix = pd.DataFrame.as_matrix(ndf)"
   ]
  },
  {
   "cell_type": "code",
   "execution_count": null,
   "metadata": {},
   "outputs": [],
   "source": [
    "from sklearn import datasets\n",
    "from sklearn.cluster import KMeans\n",
    "import sklearn.metrics as sm\n",
    "\n",
    "cluster_model = KMeans(n_clusters=30, random_state=10)"
   ]
  },
  {
   "cell_type": "code",
   "execution_count": null,
   "metadata": {},
   "outputs": [],
   "source": [
    "cluster_model.fit(sc_matrix)"
   ]
  },
  {
   "cell_type": "code",
   "execution_count": null,
   "metadata": {},
   "outputs": [],
   "source": [
    "cluster_model.labels_"
   ]
  },
  {
   "cell_type": "code",
   "execution_count": null,
   "metadata": {},
   "outputs": [],
   "source": [
    "cluster_labels = cluster_model.fit_predict(sc_matrix)"
   ]
  },
  {
   "cell_type": "code",
   "execution_count": null,
   "metadata": {},
   "outputs": [],
   "source": [
    "#Friend Predictions\n",
    "fp=df\n",
    "fp['friend_cluster'] = cluster_labels"
   ]
  },
  {
   "cell_type": "code",
   "execution_count": null,
   "metadata": {},
   "outputs": [],
   "source": [
    "fp[:6]"
   ]
  },
  {
   "cell_type": "code",
   "execution_count": null,
   "metadata": {
    "scrolled": true
   },
   "outputs": [],
   "source": [
    "# Find clusters of friends for '1_Alabama_Alexander_City'\n",
    "match_me = fp[fp.Surrogate_Key=='1_Alabama_Alexander_City']\n",
    "cluster_name = match_me.at[0,'friend_cluster']\n",
    "fp[fp.friend_cluster==cluster_name]"
   ]
  },
  {
   "cell_type": "code",
   "execution_count": null,
   "metadata": {},
   "outputs": [],
   "source": [
    "# https://www.udemy.com/clustering-classification-with-machine-learning-in-python/learn/lecture/9333372#overview\n",
    "# Clustering & Classification With Machine Learning in Python\n",
    "%matplotlib inline\n",
    "import matplotlib.pyplot as plt\n",
    "from scipy.spatial.distance import cdist\n",
    "import seaborn as sns\n",
    "\n",
    "# k means determine k\n",
    "distortions = []\n",
    "K = range(1,30)\n",
    "for k in K:\n",
    "    kmeanModel = KMeans(n_clusters=k).fit(sc_matrix)\n",
    "    kmeanModel.fit(sc_matrix)\n",
    "    distortions.append(sum(np.min(cdist(sc_matrix, kmeanModel.cluster_centers_, 'euclidean'), axis=1)) / sc_matrix.shape[0])\n",
    " \n",
    "# Plot the elbow\n",
    "plt.plot(K, distortions, 'bx-')\n",
    "plt.xlabel('k')\n",
    "plt.ylabel('Distortion')\n",
    "plt.title('The Elbow Method showing the optimal k')\n",
    "plt.show()"
   ]
  },
  {
   "cell_type": "code",
   "execution_count": null,
   "metadata": {},
   "outputs": [],
   "source": [
    "from sklearn.preprocessing import StandardScaler\n",
    "from sklearn.decomposition import PCA\n",
    "scaler = StandardScaler()\n",
    "scaler.fit(ndf) "
   ]
  },
  {
   "cell_type": "code",
   "execution_count": null,
   "metadata": {
    "scrolled": true
   },
   "outputs": [],
   "source": [
    "scaled_data = scaler.transform(ndf)"
   ]
  },
  {
   "cell_type": "code",
   "execution_count": null,
   "metadata": {},
   "outputs": [],
   "source": [
    "pca = PCA(n_components=2)"
   ]
  },
  {
   "cell_type": "code",
   "execution_count": null,
   "metadata": {},
   "outputs": [],
   "source": [
    "pca.fit(scaled_data)"
   ]
  },
  {
   "cell_type": "code",
   "execution_count": null,
   "metadata": {},
   "outputs": [],
   "source": [
    "x_pca = pca.transform(scaled_data)"
   ]
  },
  {
   "cell_type": "code",
   "execution_count": null,
   "metadata": {
    "scrolled": true
   },
   "outputs": [],
   "source": [
    "x_pca_2d = pd.DataFrame(x_pca)\n",
    "\n",
    "x_pca_2d.columns = ['PC1','PC2']\n",
    "x_pca_2d.head()"
   ]
  },
  {
   "cell_type": "code",
   "execution_count": null,
   "metadata": {
    "scrolled": true
   },
   "outputs": [],
   "source": [
    "print(pca.explained_variance_ratio_) #variance explained by the first PC"
   ]
  },
  {
   "cell_type": "code",
   "execution_count": null,
   "metadata": {},
   "outputs": [],
   "source": [
    "sc_matrix.shape"
   ]
  },
  {
   "cell_type": "code",
   "execution_count": null,
   "metadata": {},
   "outputs": [],
   "source": [
    "sc_matrix"
   ]
  },
  {
   "cell_type": "code",
   "execution_count": null,
   "metadata": {},
   "outputs": [],
   "source": [
    "sc_matrix[0][2]"
   ]
  },
  {
   "cell_type": "code",
   "execution_count": null,
   "metadata": {},
   "outputs": [],
   "source": [
    "sc_matrix[0] \n"
   ]
  },
  {
   "cell_type": "code",
   "execution_count": null,
   "metadata": {},
   "outputs": [],
   "source": [
    "sc_matrix[1] "
   ]
  },
  {
   "cell_type": "code",
   "execution_count": null,
   "metadata": {},
   "outputs": [],
   "source": [
    "friend1 = sc_matrix[0] \n",
    "friend2 = sc_matrix[1] \n",
    "score = friend1 * friend2\n",
    "score"
   ]
  },
  {
   "cell_type": "code",
   "execution_count": null,
   "metadata": {
    "scrolled": false
   },
   "outputs": [],
   "source": [
    "numpy.sum(sc_matrix, axis=1)  "
   ]
  },
  {
   "cell_type": "code",
   "execution_count": null,
   "metadata": {},
   "outputs": [],
   "source": [
    "sc_matrix[0]  "
   ]
  },
  {
   "cell_type": "code",
   "execution_count": null,
   "metadata": {},
   "outputs": [],
   "source": [
    "# Print first column\n",
    "# [row[1] for row in sc_matrix]"
   ]
  },
  {
   "cell_type": "code",
   "execution_count": null,
   "metadata": {},
   "outputs": [],
   "source": [
    "def matches(friend1, friend2):\n",
    "    # print(sc_array[0])\n",
    "    # print(sc_array[friend1])\n",
    "    # print(sc_array[friend2])\n",
    "    merged_list = [[sc_array[0][i], sc_array[friend1][i], sc_array[friend2][i]] for i in range(0, len(sc_array[0]))] \n",
    "    for i in range(len(sc_array[0])):\n",
    "        if sc_array[friend1][i] == sc_array[friend2][i]:\n",
    "            if sc_array[friend1][i] != '' and sc_array[friend1][i] != '0':\n",
    "                print(i,sc_array[0][i],sc_array[friend1][i] )\n",
    "    print(merged_list)\n"
   ]
  },
  {
   "cell_type": "code",
   "execution_count": null,
   "metadata": {},
   "outputs": [],
   "source": [
    "matches(1,111)"
   ]
  },
  {
   "cell_type": "code",
   "execution_count": null,
   "metadata": {},
   "outputs": [],
   "source": [
    "# Select a record with which to compare all other records for friends\n",
    "friend1 = 1\n",
    "\n",
    "# Create an array to store prediction values\n",
    "predict_friend = np.zeros(len(sc_array),dtype=\n",
    "                           [('record', int), ('interests', int), ('likes', int), ('daughters', int), ('sons', int)]\n",
    "                          )\n",
    "\n",
    "# Set the first column to the record number so that we can sort by predictions later and retain record number\n",
    "for i in range(len(predict_friend)):\n",
    "    predict_friend[i][0] = i+1\n",
    "\n",
    "#Calculate values over just interests [ShortHikes...Anime]\n",
    "predict_array = sc_array[1:,2:40]\n",
    "predict_array[predict_array == ''] = '0'\n",
    "\n",
    "for i in range(1,len(predict_array)):\n",
    "    for j in range(len(predict_array[0])):\n",
    "        predict_friend[i][1] += int(predict_array[i][j]) * int(predict_array[friend1][j])\n"
   ]
  },
  {
   "cell_type": "code",
   "execution_count": null,
   "metadata": {},
   "outputs": [],
   "source": [
    "# Sort in order of highest matching interests\n",
    "# Sorts in ascending order, however we want match in descending order\n",
    "# np.sort(predict_friend,order='interests')\n"
   ]
  },
  {
   "cell_type": "code",
   "execution_count": null,
   "metadata": {},
   "outputs": [],
   "source": [
    "# Sort in descending order\n",
    "predict_friend[::-1].sort(order='interests')\n",
    "# Top 5 matches\n",
    "print(predict_friend[:5])"
   ]
  },
  {
   "cell_type": "code",
   "execution_count": null,
   "metadata": {},
   "outputs": [],
   "source": [
    "matches(1,81)"
   ]
  },
  {
   "cell_type": "code",
   "execution_count": null,
   "metadata": {},
   "outputs": [],
   "source": [
    "len(predict_array)"
   ]
  }
 ],
 "metadata": {
  "kernelspec": {
   "display_name": "Python 3",
   "language": "python",
   "name": "python3"
  },
  "language_info": {
   "codemirror_mode": {
    "name": "ipython",
    "version": 3
   },
   "file_extension": ".py",
   "mimetype": "text/x-python",
   "name": "python",
   "nbconvert_exporter": "python",
   "pygments_lexer": "ipython3",
   "version": "3.7.3"
  }
 },
 "nbformat": 4,
 "nbformat_minor": 2
}
